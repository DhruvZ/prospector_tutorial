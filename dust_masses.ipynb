{
 "cells": [
  {
   "cell_type": "code",
   "execution_count": 20,
   "id": "imposed-school",
   "metadata": {},
   "outputs": [],
   "source": [
    "from prospect.io import read_results as pread\n",
    "import matplotlib.pyplot as plt\n",
    "out_file = '/home/s.lower/scripts/jupyter_analysis_notebooks/prospector_tutorial/simba_example.h5'\n",
    "results = pread.results_from(out_file)"
   ]
  },
  {
   "cell_type": "code",
   "execution_count": 2,
   "id": "governing-average",
   "metadata": {},
   "outputs": [],
   "source": [
    "from prospect.models import priors, transforms #helper functions for specifying priors\n",
    "from prospect.models import sedmodel\n",
    "def build_model_2(**kwargs):\n",
    "    \n",
    "    \"\"\"\n",
    "    Function to build model components for SFH and dust. \n",
    "    The model params are defined by their name, whether they are a free parameter\n",
    "    their initial value, and their prior distribution if they are variable. The model \n",
    "    params are then fed to the prospector SedModel class\n",
    "    \n",
    "    All parameters except 'mass' correspond to fsps model parameters, the definitions of which you can find here:\n",
    "    https://dfm.io/python-fsps/current/stellarpop_api/\n",
    "    \n",
    "    This time, we will be using something called a non-parametric star formation history model. You don't\n",
    "    _really_ need to understand this in detail, but if you want to read up on it here's a few places to start:\n",
    "    https://arxiv.org/abs/1811.03637\n",
    "    https://arxiv.org/abs/2006.03599\n",
    "    \n",
    "    The \n",
    "    \n",
    "    \"\"\"\n",
    "    \n",
    "    model_params = []\n",
    "    #redshift of galaxy. Working with simulated data is weird in that our galaxy is at redshift 0, specifically\n",
    "    #our observed SED is at a luminosity distance of 10 pc --> completely unphysical in the real Universe but \n",
    "    #ultimately doesn't matter because we can just fix that value in our model\n",
    "    model_params.append({'name': \"zred\", \"N\": 1, \"isfree\": False,\"init\": 0.1, 'prior': None})\n",
    "    model_params.append({'name': \"lumdist\", \"N\": 1, \"isfree\": False,\"init\": 1e-5, 'units': 'Mpc'})\n",
    "    #IMF model which will be used by the simple stellar population model\n",
    "    model_params.append({'name': 'imf_type', 'N': 1,'isfree': False,'init': 2, 'prior': None})\n",
    "    #stellar mass\n",
    "    model_params.append({'name': 'logmass', 'N': 1,'isfree': True, 'init': 10.0,'prior': priors.TopHat(mini=8, maxi=12)})\n",
    "    #stellar metallicity\n",
    "    model_params.append({'name': 'logzsol', 'N': 1,'isfree': True,'init': -0.5,'prior': priors.TopHat(mini=-1.6, maxi=0.1)})\n",
    "    #non parametric SFH model\n",
    "    #essentially, this model is comprised of a handful of piece-wise bins of constant SFR. the prior on the \n",
    "    # normalization (shape) of the SFH is a Dirichlet distribution \n",
    "    model_params.append({'name': \"sfh\", \"N\": 1, \"isfree\": False, \"init\": 3})\n",
    "    #here, mass =/= the total stellar mass, but rather the stellar mass in each bin of constant SFR\n",
    "    # these parameters depend on the z_fraction parameters through a conversion\n",
    "    model_params.append({'name': \"mass\", 'N': 3, 'isfree': False, 'init': 1., 'depends_on':zfrac_to_masses_log})\n",
    "    model_params.append({'name': \"agebins\", 'N': 1, 'isfree': False,'init': []})\n",
    "    # this proxy parameter is what's actually varied in the SFH model\n",
    "    model_params.append({'name': \"z_fraction\", \"N\": 2, 'isfree': True, 'init': [0, 0],'prior': priors.Beta(alpha=1.0, beta=1.0, mini=0.0, maxi=1.0)})\n",
    "    #dust attenuation model, from Kriek & Conroy 2013, this time we allow a variable attenuation curve slope\n",
    "    model_params.append({'name': 'dust_type', 'N': 1,'isfree': False,'init': 4,'prior': None})\n",
    "    #the attenuation (in magnitudes) in the V-band\n",
    "    model_params.append({'name': 'dust2', 'N': 1,'isfree': True, 'init': 0.1,'prior': priors.ClippedNormal(mini=0.0, maxi=2.0, mean=0.0, sigma=0.3)})\n",
    "    #the attenuation (in magnitudes) in the V-band\n",
    "    model_params.append({'name': 'dust_index', 'N': 1,'isfree': True, 'init': -0.3,'prior': priors.TopHat(mini=-1.6, maxi=0.3)})\n",
    "    #dust emission model -- only 1 choice, from Draine & Li 2007\n",
    "    model_params.append({'name': 'add_dust_emission', 'N': 1,'isfree': False,'init': 1,'prior': None})\n",
    "    #mass fraction of warm dust\n",
    "    model_params.append({'name': 'duste_gamma', 'N': 1,'isfree': True,'init': 0.01,'prior': priors.TopHat(mini=0.0, maxi=1.0)})\n",
    "    #minimum radiation field\n",
    "    model_params.append({'name': 'duste_umin', 'N': 1,'isfree': True,'init': 1.0,'prior': priors.TopHat(mini=0.1, maxi=20.0)})\n",
    "    #mass fraction of dust in PAHs\n",
    "    model_params.append({'name': 'duste_qpah', 'N': 1,'isfree': False,'init': 5.86,'prior': priors.TopHat(mini=0.0, maxi=6.0)})\n",
    "    \n",
    "    #now modify our SFH model to our specifications\n",
    "    n = [p['name'] for p in model_params]\n",
    "    tuniv = 14.0\n",
    "    nbins=6 #6 bins of constant SFR\n",
    "    tbinmax = (tuniv * 0.85) * 1e9\n",
    "    lim1, lim2 = 8.0, 8.52 #100 Myr and 330 Myr                                                                                                              \\                                                                                                                                                       \n",
    "    agelims = [0,lim1] + np.linspace(lim2,np.log10(tbinmax),nbins-2).tolist() + [np.log10(tuniv*1e9)]\n",
    "    agebins = np.array([agelims[:-1], agelims[1:]])\n",
    "    ncomp = nbins\n",
    "    alpha_sfh = 0.7  # desired Dirichlet concentration                                                                                                       \\                                                                                                                                                   \n",
    "    alpha = np.repeat(alpha_sfh,nbins-1)\n",
    "    tilde_alpha = np.array([alpha[i-1:].sum() for i in range(1,ncomp)])\n",
    "    zinit = np.array([(i-1)/float(i) for i in range(ncomp, 1, -1)])\n",
    "    zprior = priors.Beta(alpha=tilde_alpha, beta=np.ones_like(alpha), mini=0.0, maxi=1.0)\n",
    "    model_params[n.index('mass')]['N'] = ncomp\n",
    "    model_params[n.index('agebins')]['N'] = ncomp\n",
    "    model_params[n.index('agebins')]['init'] = agebins.T\n",
    "    model_params[n.index('z_fraction')]['N'] = len(zinit)\n",
    "    model_params[n.index('z_fraction')]['init'] = zinit\n",
    "    model_params[n.index('z_fraction')]['prior'] = zprior\n",
    "    \n",
    "    model = sedmodel.SedModel(model_params)\n",
    "    return model\n",
    "\n",
    "def zfrac_to_masses_log(logmass=None, z_fraction=None, agebins=None, **extras):\n",
    "    sfr_fraction = np.zeros(len(z_fraction) + 1)\n",
    "    sfr_fraction[0] = 1.0 - z_fraction[0]\n",
    "    for i in range(1, len(z_fraction)):\n",
    "        sfr_fraction[i] = np.prod(z_fraction[:i]) * (1.0 - z_fraction[i])\n",
    "    sfr_fraction[-1] = 1 - np.sum(sfr_fraction[:-1])\n",
    "    time_per_bin = np.diff(10**agebins, axis=-1)[:, 0]\n",
    "    mass_fraction = sfr_fraction * np.array(time_per_bin)\n",
    "    mass_fraction /= mass_fraction.sum()\n",
    "\n",
    "    masses = 10**logmass * mass_fraction\n",
    "    return masses"
   ]
  },
  {
   "cell_type": "code",
   "execution_count": 3,
   "id": "critical-terrace",
   "metadata": {},
   "outputs": [],
   "source": [
    "from prospect.sources import FastStepBasis\n",
    "def build_sps_2(**kwargs):\n",
    "    \"\"\"\n",
    "    This is our stellar population model which generates the spectra for stars of a given age and mass. \n",
    "    Because we are using a non parametric SFH model, we do have to use a different SPS model than before \n",
    "    \"\"\"\n",
    "    sps = FastStepBasis(zcontinuous=1)\n",
    "    return sps"
   ]
  },
  {
   "cell_type": "code",
   "execution_count": 4,
   "id": "mature-labor",
   "metadata": {},
   "outputs": [],
   "source": [
    "model = build_model_2()\n",
    "sps = build_sps_2()"
   ]
  },
  {
   "cell_type": "code",
   "execution_count": 5,
   "id": "attempted-freedom",
   "metadata": {},
   "outputs": [
    {
     "data": {
      "text/plain": [
       "['logmass',\n",
       " 'logzsol',\n",
       " 'z_fraction_1',\n",
       " 'z_fraction_2',\n",
       " 'z_fraction_3',\n",
       " 'z_fraction_4',\n",
       " 'z_fraction_5',\n",
       " 'dust2',\n",
       " 'dust_index',\n",
       " 'duste_gamma',\n",
       " 'duste_umin']"
      ]
     },
     "execution_count": 5,
     "metadata": {},
     "output_type": "execute_result"
    }
   ],
   "source": [
    "model.theta_labels()"
   ]
  },
  {
   "cell_type": "markdown",
   "id": "expired-homework",
   "metadata": {},
   "source": [
    "Because the Draine & Li 2007 dust emission model doesn't directly fit for the dust mass, we need to compute that given the model posteriors. We'll do this using fsps, which containts the function to calculate the dust mass for a given stellar population & set of dust properties.\n",
    "\n",
    "First, lets see how to calculate the dust mass from one set of parameters. The basic idea is that we'll take the model parameters and generate a stellar population from those parameters with which fsps will calculate the dust mass corresponding to those parameter values. Though the dust emission model only depends on 3 parameters (and in our case, 2), the dust mass calculation depends on the stellar properties as well, namely stellar mass and the star formation history. "
   ]
  },
  {
   "cell_type": "code",
   "execution_count": 7,
   "id": "neutral-calculation",
   "metadata": {},
   "outputs": [
    {
     "name": "stdout",
     "output_type": "stream",
     "text": [
      "logmass = 11.946634074766118\n",
      "logzsol = -1.0449219184876242\n",
      "z_fraction_1 = 0.48314395841208246\n",
      "z_fraction_2 = 0.3512908499986519\n",
      "z_fraction_3 = 0.36871396327838896\n",
      "z_fraction_4 = 0.781684208611392\n",
      "z_fraction_5 = 0.09495747414386811\n",
      "dust2 = 0.3381443412811902\n",
      "dust_index = -0.7482194817543889\n",
      "duste_gamma = 0.5063365032992527\n",
      "duste_umin = 4.779965250929581\n"
     ]
    }
   ],
   "source": [
    "parameter_chain = results[0]['chain'][0]\n",
    "params = model.theta_labels()\n",
    "for i in range(len(parameter_chain)):\n",
    "    print(f'{params[i]} = {parameter_chain[i]}')"
   ]
  },
  {
   "cell_type": "markdown",
   "id": "executed-slovenia",
   "metadata": {},
   "source": [
    "Since we're working with the Simba data that was fit with a non-parametric SFH, we do have to do a bit of work to input it into our fsps stellar population"
   ]
  },
  {
   "cell_type": "code",
   "execution_count": 17,
   "id": "prescribed-habitat",
   "metadata": {},
   "outputs": [
    {
     "name": "stdout",
     "output_type": "stream",
     "text": [
      "Total stellar mass: 884370148538.261\n",
      "SFH bins in log(Gyr): \n",
      "[[ 0.          8.        ]\n",
      " [ 8.          8.52      ]\n",
      " [ 8.52        9.03851565]\n",
      " [ 9.03851565  9.55703131]\n",
      " [ 9.55703131 10.07554696]\n",
      " [10.07554696 10.14612804]]\n",
      "SFR parameters before conversion: [0.48314396 0.35129085 0.36871396 0.78168421 0.09495747]\n"
     ]
    }
   ],
   "source": [
    "total_mass = 10**parameter_chain[params.index('logmass')]\n",
    "time_bins_log = model.params['agebins']\n",
    "z_frac = parameter_chain[params.index('z_fraction_1'):params.index('z_fraction_5')+1]\n",
    "\n",
    "print(f'Total stellar mass: {total_mass}')\n",
    "print(f'SFH bins in log(Gyr): \\n{time_bins_log}')\n",
    "print(f'SFR parameters before conversion: {z_frac}')"
   ]
  },
  {
   "cell_type": "markdown",
   "id": "public-schema",
   "metadata": {},
   "source": [
    "Prospector comes with a couple of conversion functions that take our non-parametric SFHs and convert them into forms that we can understand a bit easier (i.e., the amount of stellar mass produced in each time range) "
   ]
  },
  {
   "cell_type": "code",
   "execution_count": 25,
   "id": "necessary-despite",
   "metadata": {},
   "outputs": [],
   "source": [
    "from prospect.models.transforms import zfrac_to_masses\n",
    "masses = zfrac_to_masses(total_mass, z_frac, time_bins_log)\n",
    "converted_sfh = sps.convert_sfh(time_bins_log, masses)"
   ]
  },
  {
   "cell_type": "code",
   "execution_count": 29,
   "id": "composed-ordinary",
   "metadata": {},
   "outputs": [
    {
     "data": {
      "text/plain": [
       "Text(0.5, 0, 'Age of Universe [Gyr]')"
      ]
     },
     "execution_count": 29,
     "metadata": {},
     "output_type": "execute_result"
    },
    {
     "data": {
      "image/png": "[encoded data removed]",
      "text/plain": [
       "<Figure size 432x288 with 1 Axes>"
      ]
     },
     "metadata": {
      "needs_background": "light"
     },
     "output_type": "display_data"
    }
   ],
   "source": [
    "plt.plot(converted_sfh[0],converted_sfh[1])\n",
    "plt.ylabel('SFR [M$_{\\odot}$ / yr]')\n",
    "plt.xlabel('Age of Universe [Gyr]')"
   ]
  },
  {
   "cell_type": "markdown",
   "id": "cathedral-buying",
   "metadata": {},
   "source": [
    "Now, we can take our model parameters and use them to calculate the dust mass using fsps (inside of prospector)"
   ]
  },
  {
   "cell_type": "code",
   "execution_count": 34,
   "id": "compact-nightmare",
   "metadata": {},
   "outputs": [],
   "source": [
    "model_sp = sps.ssp\n",
    "model_sp.params['sfh'] = 3 #this tells fsps that we are using a non-parametric SFH\n",
    "model_sp.set_tabular_sfh(converted_sfh[0], converted_sfh[1])\n",
    "#copying these three fixed model params from our model setup                                                                                                                          \n",
    "model_sp.params['imf_type'] = 2\n",
    "model_sp.params['zred'] = 0.0\n",
    "#and inputting our dust model parameters below\n",
    "model_sp.params['add_dust_emission'] = True\n",
    "model_sp.params['dust_type'] = 5\n",
    "model_sp.params['dust2'] = parameter_chain[params.index('dust2')]\n",
    "model_sp.params['dust_index'] = parameter_chain[params.index('dust_index')]\n",
    "model_sp.params['logzsol'] = parameter_chain[params.index('logzsol')]\n",
    "model_sp.params['duste_gamma'] = parameter_chain[params.index('duste_gamma')]\n",
    "model_sp.params['duste_umin'] = parameter_chain[params.index('duste_umin')]\n",
    "model_sp.params['duste_qpah'] = 5.86\n",
    "dust_mass = model_sp.dust_mass[-1]"
   ]
  },
  {
   "cell_type": "code",
   "execution_count": 39,
   "id": "incorporate-pocket",
   "metadata": {},
   "outputs": [
    {
     "name": "stdout",
     "output_type": "stream",
     "text": [
      "Our model dust mass is 12961239.258520622 M_sun\n"
     ]
    }
   ],
   "source": [
    "print(f'Our model dust mass is {dust_mass} M_sun')"
   ]
  },
  {
   "cell_type": "markdown",
   "id": "knowing-crack",
   "metadata": {},
   "source": [
    "But this is just for a random (not really random, just the first) sample drawn from our model posteriors....we really need to use the values from the posterior that best describe our observed SED. To do that, we'll use what are called the maximum likelihood estimates. _Technically_ we should be using the entire posterior distrubtions to generate a posterior distribution for the dust mass (i.e., do the above calculation for _every_ posterior sample drawn during the fit) but that would take a bit longer and would needlessly complicate things, at least for our purposes here. \n",
    "\n",
    "Anyways, the maximum likelihood estimates are exactly that -- the value of each parameter posterior distribution that has the highest probability of matching the true galaxy properties. Luckily for us, the prospector output stores the likelihood estimate for each sample drawn during the fit so all we need to do is ask for the parameter values with the maximum likelihood!"
   ]
  },
  {
   "cell_type": "code",
   "execution_count": 41,
   "id": "sacred-flash",
   "metadata": {},
   "outputs": [],
   "source": [
    "def get_best(results):\n",
    "    imax = np.argmax(results['lnprobability']) #which parameter sample during the fit had the highest likelihood?\n",
    "    theta_best = results['chain'][imax, :].copy()\n",
    "    return theta_best"
   ]
  },
  {
   "cell_type": "code",
   "execution_count": 42,
   "id": "reasonable-regular",
   "metadata": {},
   "outputs": [],
   "source": [
    "max_params = get_best(results[0])"
   ]
  },
  {
   "cell_type": "code",
   "execution_count": 43,
   "id": "young-testimony",
   "metadata": {},
   "outputs": [
    {
     "name": "stdout",
     "output_type": "stream",
     "text": [
      "Best fit parameters:\n",
      "logmass = 10.40338147877568\n",
      "logzsol = -0.6072854116650553\n",
      "z_fraction_1 = 0.8671190060245757\n",
      "z_fraction_2 = 0.9331741584157118\n",
      "z_fraction_3 = 0.904171762058183\n",
      "z_fraction_4 = 0.7847015157906547\n",
      "z_fraction_5 = 0.0007793055429786896\n",
      "dust2 = 0.06730655033941126\n",
      "dust_index = -1.2338107627988595\n",
      "duste_gamma = 0.01841811949766964\n",
      "duste_umin = 2.325709388848862\n"
     ]
    }
   ],
   "source": [
    "print('Best fit parameters:')\n",
    "for i in range(len(parameter_chain)):\n",
    "    print(f'{params[i]} = {max_params[i]}')"
   ]
  },
  {
   "cell_type": "markdown",
   "id": "favorite-hartford",
   "metadata": {},
   "source": [
    "So now we just repeat what we did above but with these parameters "
   ]
  },
  {
   "cell_type": "code",
   "execution_count": 44,
   "id": "dominant-steal",
   "metadata": {},
   "outputs": [],
   "source": [
    "total_mass = 10**max_params[params.index('logmass')]\n",
    "time_bins_log = model.params['agebins']\n",
    "z_frac = max_params[params.index('z_fraction_1'):params.index('z_fraction_5')+1]\n",
    "\n",
    "masses = zfrac_to_masses(total_mass, z_frac, time_bins_log)\n",
    "converted_sfh = sps.convert_sfh(time_bins_log, masses)\n",
    "\n",
    "model_sp.params['sfh'] = 3 #this tells fsps that we are using a non-parametric SFH\n",
    "model_sp.set_tabular_sfh(converted_sfh[0], converted_sfh[1])\n",
    "#copying these three fixed model params from our model setup                                                                                                                          \n",
    "model_sp.params['imf_type'] = 2\n",
    "model_sp.params['zred'] = 0.0\n",
    "#and inputting our dust model parameters below\n",
    "model_sp.params['add_dust_emission'] = True\n",
    "model_sp.params['dust_type'] = 5\n",
    "model_sp.params['dust2'] = parameter_chain[params.index('dust2')]\n",
    "model_sp.params['dust_index'] = parameter_chain[params.index('dust_index')]\n",
    "model_sp.params['logzsol'] = parameter_chain[params.index('logzsol')]\n",
    "model_sp.params['duste_gamma'] = parameter_chain[params.index('duste_gamma')]\n",
    "model_sp.params['duste_umin'] = parameter_chain[params.index('duste_umin')]\n",
    "model_sp.params['duste_qpah'] = 5.86\n",
    "dust_mass = model_sp.dust_mass[-1]"
   ]
  },
  {
   "cell_type": "code",
   "execution_count": 45,
   "id": "unable-twenty",
   "metadata": {},
   "outputs": [
    {
     "name": "stdout",
     "output_type": "stream",
     "text": [
      "Our best fit model dust mass is 299714.70972572465 M_sun\n"
     ]
    }
   ],
   "source": [
    "print(f'Our best fit model dust mass is {dust_mass} M_sun')"
   ]
  },
  {
   "cell_type": "code",
   "execution_count": null,
   "id": "complete-trustee",
   "metadata": {},
   "outputs": [],
   "source": []
  }
 ],
 "metadata": {
  "kernelspec": {
   "display_name": "Python 3",
   "language": "python",
   "name": "python3"
  },
  "language_info": {
   "codemirror_mode": {
    "name": "ipython",
    "version": 3
   },
   "file_extension": ".py",
   "mimetype": "text/x-python",
   "name": "python",
   "nbconvert_exporter": "python",
   "pygments_lexer": "ipython3",
   "version": "3.6.12"
  }
 },
 "nbformat": 4,
 "nbformat_minor": 5
}
